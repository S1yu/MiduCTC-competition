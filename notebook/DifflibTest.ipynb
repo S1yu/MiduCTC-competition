{
 "cells": [
  {
   "cell_type": "code",
   "execution_count": 5,
   "metadata": {},
   "outputs": [
    {
     "name": "stdout",
     "output_type": "stream",
     "text": [
      "  equal a[0:2] (我很) b[0:2] (我很)\n",
      " delete a[2:4] (很哈) b[2:2] ()\n",
      "  equal a[4:7] (开心，) b[2:5] (开心，)\n",
      " insert a[7:7] () b[5:6] (不)\n",
      "  equal a[7:9] (生气) b[6:8] (生气)\n"
     ]
    }
   ],
   "source": [
    "from difflib import SequenceMatcher\n",
    "a = \"我很很哈开心，生气\"\n",
    "b = \"我很开心，不生气\"\n",
    "s = SequenceMatcher(None, a, b)\n",
    "for tag, i1, i2, j1, j2 in s.get_opcodes():\n",
    "    print((\"%7s a[%d:%d] (%s) b[%d:%d] (%s)\" %\n",
    "           (tag, i1, i2, a[i1:i2], j1, j2, b[j1:j2])))"
   ]
  }
 ],
 "metadata": {
  "kernelspec": {
   "display_name": "Python 3.9.7 ('torch19py39')",
   "language": "python",
   "name": "python3"
  },
  "language_info": {
   "codemirror_mode": {
    "name": "ipython",
    "version": 3
   },
   "file_extension": ".py",
   "mimetype": "text/x-python",
   "name": "python",
   "nbconvert_exporter": "python",
   "pygments_lexer": "ipython3",
   "version": "3.9.7"
  },
  "orig_nbformat": 4,
  "vscode": {
   "interpreter": {
    "hash": "16fb356f935e542aa5f58aa71ff59ddf0054d7ac15a617e3de4aa7197e530308"
   }
  }
 },
 "nbformat": 4,
 "nbformat_minor": 2
}
