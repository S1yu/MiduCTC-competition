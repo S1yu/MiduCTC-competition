{
 "cells": [
  {
   "cell_type": "code",
   "execution_count": 13,
   "metadata": {},
   "outputs": [
    {
     "name": "stdout",
     "output_type": "stream",
     "text": [
      "1011\n",
      "17\n"
     ]
    }
   ],
   "source": [
    "import json\n",
    "# df1 = json.load(open('/148Dataset/data-tie.qianfeng/preliminary_a_data/extend_data/SIGHAN_Wang271K/train.json', \n",
    "#                 'r', encoding='utf-8'))\n",
    "# print(len(df1))\n",
    "# df2 = json.load(open('/148Dataset/data-tie.qianfeng/preliminary_a_data/extend_data/SIGHAN_Wang271K/dev.json', \n",
    "#                 'r', encoding='utf-8'))\n",
    "# print(len(df2))\n",
    "\n",
    "# dfe = df1+df2\n",
    "# print(len(dfe))\n",
    "# for sample in dfe:\n",
    "#     sample[\"id\"] = -1\n",
    "#     sample[\"source\"] = sample.pop(\"original_text\")\n",
    "#     sample[\"target\"] = sample.pop(\"correct_text\")\n",
    "#     sample[\"type\"] = \"positive\" if len(sample.pop(\"wrong_ids\"))==0 else \"negative\"\n",
    "df = json.load(open('/148Dataset/data-tie.qianfeng/preliminary_a_data/preliminary_b_test_source.json', \n",
    "                'r', encoding='utf-8'))\n",
    "\n",
    "print(len(df))\n",
    "# with open('/148Dataset/data-tie.qianfeng/preliminary_a_data/preliminary_train_with_wang271k.json', 'w', encoding='utf-8') as f:\n",
    "#     json.dump(dfe, f)\n",
    "leng = 0\n",
    "for sample in df:\n",
    "    if len(sample[\"source\"])>128:\n",
    "        leng+=1\n",
    "        # print(sample)\n",
    "print(leng)\n"
   ]
  }
 ],
 "metadata": {
  "kernelspec": {
   "display_name": "Python 3.9.7 ('torch19py39')",
   "language": "python",
   "name": "python3"
  },
  "language_info": {
   "codemirror_mode": {
    "name": "ipython",
    "version": 3
   },
   "file_extension": ".py",
   "mimetype": "text/x-python",
   "name": "python",
   "nbconvert_exporter": "python",
   "pygments_lexer": "ipython3",
   "version": "3.9.7"
  },
  "orig_nbformat": 4,
  "vscode": {
   "interpreter": {
    "hash": "16fb356f935e542aa5f58aa71ff59ddf0054d7ac15a617e3de4aa7197e530308"
   }
  }
 },
 "nbformat": 4,
 "nbformat_minor": 2
}
